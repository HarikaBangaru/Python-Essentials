{
 "cells": [
  {
   "cell_type": "code",
   "execution_count": 1,
   "metadata": {},
   "outputs": [
    {
     "name": "stdout",
     "output_type": "stream",
     "text": [
      "Indicies are\n",
      "5\n",
      "14\n",
      "25\n"
     ]
    }
   ],
   "source": [
    "x=\"what we think we become; we are python programmers\"\n",
    "st=\"we\"\n",
    "print(\"Indicies are\")\n",
    "for i in range(len(x)):\n",
    "    if(x.startswith(st,i)):\n",
    "        print(i)"
   ]
  },
  {
   "cell_type": "code",
   "execution_count": 2,
   "metadata": {},
   "outputs": [
    {
     "name": "stdout",
     "output_type": "stream",
     "text": [
      "True\n",
      "False\n",
      "False\n",
      "True\n"
     ]
    }
   ],
   "source": [
    "x=\"12hiii*$\"\n",
    "print(x.islower())           #it checks alphabets in the string and returns true if they are lower case \n",
    "print(x.isupper())           #it checks alphabets in the string and returns true if they are upper case\n",
    "x1=\"HELLO\"\n",
    "print(x1.islower())\n",
    "print(x1.isupper())"
   ]
  },
  {
   "cell_type": "code",
   "execution_count": null,
   "metadata": {},
   "outputs": [],
   "source": []
  }
 ],
 "metadata": {
  "kernelspec": {
   "display_name": "Python 3",
   "language": "python",
   "name": "python3"
  },
  "language_info": {
   "codemirror_mode": {
    "name": "ipython",
    "version": 3
   },
   "file_extension": ".py",
   "mimetype": "text/x-python",
   "name": "python",
   "nbconvert_exporter": "python",
   "pygments_lexer": "ipython3",
   "version": "3.7.3"
  }
 },
 "nbformat": 4,
 "nbformat_minor": 2
}
